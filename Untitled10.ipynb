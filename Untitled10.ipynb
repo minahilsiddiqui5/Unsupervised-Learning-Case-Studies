{
  "nbformat": 4,
  "nbformat_minor": 0,
  "metadata": {
    "colab": {
      "provenance": [],
      "authorship_tag": "ABX9TyPjmFANzbeg86qnFa/34Aiq",
      "include_colab_link": true
    },
    "kernelspec": {
      "name": "python3",
      "display_name": "Python 3"
    },
    "language_info": {
      "name": "python"
    }
  },
  "cells": [
    {
      "cell_type": "markdown",
      "metadata": {
        "id": "view-in-github",
        "colab_type": "text"
      },
      "source": [
        "<a href=\"https://colab.research.google.com/github/minahilsiddiqui5/Unsupervised-Learning-Case-Studies/blob/main/Untitled10.ipynb\" target=\"_parent\"><img src=\"https://colab.research.google.com/assets/colab-badge.svg\" alt=\"Open In Colab\"/></a>"
      ]
    },
    {
      "cell_type": "code",
      "execution_count": 1,
      "metadata": {
        "id": "dngXHTDseYCb"
      },
      "outputs": [],
      "source": [
        "import os\n",
        "\n",
        "# Define the folder name\n",
        "folder_name = \"real-world-case-studies-using-Kmeans\"\n",
        "\n",
        "# Create the folder\n",
        "os.makedirs(folder_name, exist_ok=True)\n"
      ]
    },
    {
      "cell_type": "code",
      "source": [
        "import shutil\n",
        "\n",
        "# List of files to move\n",
        "files = ['city-plannings.ipynb', 'image-regressor.ipynb', 'customer-segmentation.ipynb']\n",
        "\n",
        "# Create the files with the specified names\n",
        "for file_name in files:\n",
        "    with open(file_name, \"w\") as f:\n",
        "        f.write(\"\")  # Create an empty notebook file\n"
      ],
      "metadata": {
        "id": "CCTh00hqemid"
      },
      "execution_count": 3,
      "outputs": []
    },
    {
      "cell_type": "code",
      "source": [
        "import shutil\n",
        "\n",
        "# Move each file to the folder\n",
        "for file_name in files:\n",
        "    shutil.move(file_name, folder_name + '/' + file_name)\n"
      ],
      "metadata": {
        "id": "va8_Yya1fJJQ"
      },
      "execution_count": 4,
      "outputs": []
    },
    {
      "cell_type": "code",
      "source": [],
      "metadata": {
        "id": "SO8Zj6YHftyH"
      },
      "execution_count": null,
      "outputs": []
    }
  ]
}